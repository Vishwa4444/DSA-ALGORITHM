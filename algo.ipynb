{
 "cells": [
  {
   "cell_type": "markdown",
   "id": "e64e458c",
   "metadata": {},
   "source": [
    "#Bubble sort Algorithm"
   ]
  },
  {
   "cell_type": "code",
   "execution_count": 3,
   "id": "b97d762a",
   "metadata": {},
   "outputs": [
    {
     "name": "stdout",
     "output_type": "stream",
     "text": [
      "4 5 35 64 -4 6 43 546 77 77\n",
      "Unsorted list is,\n",
      "[4, 5, 35, 64, -4, 6, 43, 546, 77, 77]\n",
      "Sorted Array is, \n",
      "[-4, 4, 5, 6, 35, 43, 64, 77, 77, 546]\n"
     ]
    }
   ],
   "source": [
    "def bubblesort(elements):\n",
    "    swapped = False\n",
    "    # Looping from size of array from last index[-1] to index [0]\n",
    "    for n in range(len(elements)-1, 0, -1):\n",
    "        for i in range(n):\n",
    "            if elements[i] > elements[i + 1]:\n",
    "                swapped = True\n",
    "                # swapping data if the element is less than next element in the array\n",
    "                elements[i], elements[i + 1] = elements[i + 1], elements[i]       \n",
    "        if swapped==False:\n",
    "            # exiting the function if we didn't make a single swap\n",
    "            # meaning that the array is already sorted.\n",
    "            return\n",
    "\n",
    "        \n",
    "elements = [int(i) for i in input().split()]\n",
    " \n",
    "print(\"Unsorted list is,\")\n",
    "print(elements)\n",
    "bubblesort(elements)\n",
    "print(\"Sorted Array is, \")\n",
    "print(elements)"
   ]
  },
  {
   "cell_type": "markdown",
   "id": "1b7dd039",
   "metadata": {},
   "source": [
    "#Selection sort Algorithm\n",
    "Ex:\n",
    "arr=[64,25,12,22,11]\n",
    "->arr is traversed from index 0 to index 4, then minnimum number is found\n",
    "-> swapped with no. 64\n",
    "->then increment to next position. Repeat until sorted"
   ]
  },
  {
   "cell_type": "code",
   "execution_count": 14,
   "id": "8bfe5ad7",
   "metadata": {},
   "outputs": [
    {
     "name": "stdout",
     "output_type": "stream",
     "text": [
      "Sorted array\n",
      "11 2 12 25 64 None\n"
     ]
    }
   ],
   "source": [
    "arr=[64,25,12,2,11]\n",
    "\n",
    "def selectionSort(arr):\n",
    "    \n",
    "    for i in range(len(arr)):\n",
    "        \n",
    "        min_indx=i\n",
    "        \n",
    "        for j in range(i+1,len(arr)):\n",
    "            if arr[min_indx]>arr[j]:\n",
    "                min_indx=j\n",
    "            arr[i],arr[min_indx]= arr[min_indx],arr[i]\n"
   ]
  },
  {
   "cell_type": "code",
   "execution_count": null,
   "id": "9ba39b77",
   "metadata": {},
   "outputs": [],
   "source": []
  }
 ],
 "metadata": {
  "kernelspec": {
   "display_name": "Python 3 (ipykernel)",
   "language": "python",
   "name": "python3"
  },
  "language_info": {
   "codemirror_mode": {
    "name": "ipython",
    "version": 3
   },
   "file_extension": ".py",
   "mimetype": "text/x-python",
   "name": "python",
   "nbconvert_exporter": "python",
   "pygments_lexer": "ipython3",
   "version": "3.9.7"
  }
 },
 "nbformat": 4,
 "nbformat_minor": 5
}
